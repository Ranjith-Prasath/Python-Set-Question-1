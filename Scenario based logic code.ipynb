{
 "cells": [
  {
   "cell_type": "code",
   "execution_count": 5,
   "id": "2c184277-c82e-4705-96e7-581d123be8b2",
   "metadata": {},
   "outputs": [
    {
     "name": "stdout",
     "output_type": "stream",
     "text": [
      "The largest number is :  45\n"
     ]
    }
   ],
   "source": [
    "list = [23,14,45,33,12]\n",
    "largest = findlargest(list)\n",
    "print(\"The largest number is : \", largest)\n",
    "    \n",
    "        \n",
    "       "
   ]
  },
  {
   "cell_type": "code",
   "execution_count": 4,
   "id": "57101f0b-f770-4f8d-983e-8920176a8e1a",
   "metadata": {},
   "outputs": [],
   "source": [
    "def findlargest(numbers):\n",
    "    return max(numbers)"
   ]
  },
  {
   "cell_type": "code",
   "execution_count": 6,
   "id": "20516109-1050-435a-95a1-6660e6573322",
   "metadata": {},
   "outputs": [
    {
     "name": "stdout",
     "output_type": "stream",
     "text": [
      "marahtavasahD \n"
     ]
    }
   ],
   "source": [
    "word = \" Dhasavatharam\"\n",
    "reversed_word = word[::-1]\n",
    "print(reversed_word)"
   ]
  },
  {
   "cell_type": "code",
   "execution_count": null,
   "id": "f47f02de-af60-42da-9f51-b764fe726feb",
   "metadata": {},
   "outputs": [],
   "source": [
    "    "
   ]
  }
 ],
 "metadata": {
  "kernelspec": {
   "display_name": "Python 3 (ipykernel)",
   "language": "python",
   "name": "python3"
  },
  "language_info": {
   "codemirror_mode": {
    "name": "ipython",
    "version": 3
   },
   "file_extension": ".py",
   "mimetype": "text/x-python",
   "name": "python",
   "nbconvert_exporter": "python",
   "pygments_lexer": "ipython3",
   "version": "3.13.5"
  }
 },
 "nbformat": 4,
 "nbformat_minor": 5
}
